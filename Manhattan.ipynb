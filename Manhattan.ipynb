{
 "cells": [
  {
   "cell_type": "code",
   "execution_count": 1,
   "metadata": {},
   "outputs": [],
   "source": [
    "import pandas as pd"
   ]
  },
  {
   "cell_type": "code",
   "execution_count": 11,
   "metadata": {},
   "outputs": [],
   "source": [
    "lines = pd.read_csv('lines.csv')"
   ]
  },
  {
   "cell_type": "code",
   "execution_count": 12,
   "metadata": {},
   "outputs": [
    {
     "name": "stdout",
     "output_type": "stream",
     "text": [
      "<class 'pandas.core.frame.DataFrame'>\n",
      "RangeIndex: 74398 entries, 0 to 74397\n",
      "Data columns (total 11 columns):\n",
      " #   Column              Non-Null Count  Dtype  \n",
      "---  ------              --------------  -----  \n",
      " 0   Unnamed: 0          74398 non-null  int64  \n",
      " 1   street              74398 non-null  object \n",
      " 2   speed               74398 non-null  int64  \n",
      " 3   pin1                74398 non-null  int64  \n",
      " 4   pin2                74398 non-null  int64  \n",
      " 5   x1                  74398 non-null  float64\n",
      " 6   y1                  74398 non-null  float64\n",
      " 7   x2                  74398 non-null  float64\n",
      " 8   y2                  74398 non-null  float64\n",
      " 9   left_intersect_id   74398 non-null  int64  \n",
      " 10  right_intersect_id  74398 non-null  int64  \n",
      "dtypes: float64(4), int64(6), object(1)\n",
      "memory usage: 6.2+ MB\n"
     ]
    }
   ],
   "source": [
    "lines.info()"
   ]
  },
  {
   "cell_type": "code",
   "execution_count": 14,
   "metadata": {},
   "outputs": [],
   "source": [
    "lines['manhattan'] = abs(lines['x1']- lines['x2']) + abs(lines['y1']- lines['y2'])"
   ]
  },
  {
   "cell_type": "code",
   "execution_count": 15,
   "metadata": {},
   "outputs": [],
   "source": [
    "lines.to_csv('lines.csv')"
   ]
  },
  {
   "cell_type": "code",
   "execution_count": 16,
   "metadata": {},
   "outputs": [
    {
     "name": "stdout",
     "output_type": "stream",
     "text": [
      "<class 'pandas.core.frame.DataFrame'>\n",
      "RangeIndex: 74398 entries, 0 to 74397\n",
      "Data columns (total 12 columns):\n",
      " #   Column              Non-Null Count  Dtype  \n",
      "---  ------              --------------  -----  \n",
      " 0   Unnamed: 0          74398 non-null  int64  \n",
      " 1   street              74398 non-null  object \n",
      " 2   speed               74398 non-null  int64  \n",
      " 3   pin1                74398 non-null  int64  \n",
      " 4   pin2                74398 non-null  int64  \n",
      " 5   x1                  74398 non-null  float64\n",
      " 6   y1                  74398 non-null  float64\n",
      " 7   x2                  74398 non-null  float64\n",
      " 8   y2                  74398 non-null  float64\n",
      " 9   left_intersect_id   74398 non-null  int64  \n",
      " 10  right_intersect_id  74398 non-null  int64  \n",
      " 11  manhattan           74398 non-null  float64\n",
      "dtypes: float64(5), int64(6), object(1)\n",
      "memory usage: 6.8+ MB\n"
     ]
    }
   ],
   "source": [
    "lines.info()"
   ]
  }
 ],
 "metadata": {
  "kernelspec": {
   "display_name": "Python 3",
   "language": "python",
   "name": "python3"
  },
  "language_info": {
   "codemirror_mode": {
    "name": "ipython",
    "version": 3
   },
   "file_extension": ".py",
   "mimetype": "text/x-python",
   "name": "python",
   "nbconvert_exporter": "python",
   "pygments_lexer": "ipython3",
   "version": "3.7.6"
  }
 },
 "nbformat": 4,
 "nbformat_minor": 2
}
