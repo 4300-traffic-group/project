{
 "cells": [
  {
   "cell_type": "code",
   "execution_count": 1,
   "metadata": {},
   "outputs": [],
   "source": [
    "import pymysql.cursors\n",
    "import time\n",
    "from matplotlib import pyplot as plt\n",
    "from neo4j import GraphDatabase"
   ]
  },
  {
   "cell_type": "code",
   "execution_count": 6,
   "metadata": {},
   "outputs": [
    {
     "name": "stdout",
     "output_type": "stream",
     "text": [
      "0.0938723087310791\n",
      "0.43639039993286133\n",
      "1.4288718700408936\n"
     ]
    }
   ],
   "source": [
    "connection = pymysql.connect(host='localhost',\n",
    "                            user='root',\n",
    "                            password='El3ctron5',\n",
    "                            database='traffic',\n",
    "                            charset='utf8',\n",
    "                            cursorclass=pymysql.cursors.DictCursor)\n",
    "# Open connection and cursor\n",
    "with connection:\n",
    "    with connection.cursor() as cursor:\n",
    "            start = time.time()\n",
    "            cursor.execute(\"select * from segments as seg1 \" + \\\n",
    "                           \"join segments as seg2 on ((seg1.x1 = seg2.x1 and seg1.y1 = seg2.y1) \" + \\\n",
    "                           \"or (seg1.x2 = seg2.x1 and seg1.y2 = seg2.y1) \" + \\\n",
    "                           \"or (seg1.x1 = seg2.x2 and seg1.y1 = seg2.y2) \" + \\\n",
    "                           \"or (seg1.x2 = seg2.x2 and seg1.y2 = seg2.y2)) \" + \\\n",
    "                           \"where seg1.street = 'Saint Alphonsus' \" + \\\n",
    "                           \"and seg2.street = 'Huntington';\")\n",
    "            mid = time.time()\n",
    "            cursor.execute(\"select * from segments as seg1 \" + \\\n",
    "                           \"join segments as seg2 on ((seg1.x1 = seg2.x1 and seg1.y1 = seg2.y1) \" + \\\n",
    "                           \"or (seg1.x2 = seg2.x1 and seg1.y2 = seg2.y1) \" + \\\n",
    "                           \"or (seg1.x1 = seg2.x2 and seg1.y1 = seg2.y2) \" + \\\n",
    "                           \"or (seg1.x2 = seg2.x2 and seg1.y2 = seg2.y2)) \" + \\\n",
    "                           \"where seg1.street = 'Saint Alphonsus';\")\n",
    "            end = time.time()\n",
    "            cursor.execute(\"select * from segments;\")\n",
    "            end1 = time.time()\n",
    "sql_time1 = mid - start\n",
    "sql_time2 = end - mid\n",
    "sql_time3 = end1 - end\n",
    "print(sql_time1)\n",
    "print(sql_time2)\n",
    "print(sql_time3)"
   ]
  },
  {
   "cell_type": "code",
   "execution_count": 3,
   "metadata": {},
   "outputs": [],
   "source": [
    "# code copied from https://towardsdatascience.com/neo4j-cypher-python-7a919a372be7\n",
    "class Neo4jConnection:\n",
    "    \n",
    "    def __init__(self, uri, user, pwd):\n",
    "        self.__uri = uri\n",
    "        self.__user = user\n",
    "        self.__pwd = pwd\n",
    "        self.__driver = None\n",
    "        try:\n",
    "            self.__driver = GraphDatabase.driver(self.__uri, auth=(self.__user, self.__pwd))\n",
    "        except Exception as e:\n",
    "            print(\"Failed to create the driver:\", e)\n",
    "        \n",
    "    def close(self):\n",
    "        if self.__driver is not None:\n",
    "            self.__driver.close()\n",
    "        \n",
    "    def query(self, query, db=None):\n",
    "        assert self.__driver is not None, \"Driver not initialized!\"\n",
    "        session = None\n",
    "        response = None\n",
    "        try: \n",
    "            session = self.__driver.session(database=db) if db is not None else self.__driver.session() \n",
    "            response = list(session.run(query))\n",
    "        except Exception as e:\n",
    "            print(\"Query failed:\", e)\n",
    "        finally: \n",
    "            if session is not None:\n",
    "                session.close()\n",
    "        return response"
   ]
  },
  {
   "cell_type": "code",
   "execution_count": 5,
   "metadata": {},
   "outputs": [
    {
     "name": "stdout",
     "output_type": "stream",
     "text": [
      "0.12465596199035645\n",
      "0.09676599502563477\n",
      "4.152183771133423\n"
     ]
    }
   ],
   "source": [
    "conn = Neo4jConnection(uri=\"bolt://localhost:7687\", user=\"neo4j\", pwd=\"El3ctron5\")\n",
    "start = time.time()\n",
    "conn.query(\"match(i1)- [s1: Street {name: 'Huntington'}] - (i2:Intersec) - [s2: Street {name: 'Saint Alphonsus'}]-(i3) return i1, i2, i3 \")\n",
    "mid = time.time()\n",
    "conn.query(\"match(i1)- [s1: Street {name: 'Hemenway'}] - (i2:Intersec) - [s2: Street]-(i3) return i1, i2, i3\")\n",
    "end = time.time()\n",
    "conn.query(\"match(m) return m\")\n",
    "end1 = time.time()\n",
    "neo4j1 = mid - start\n",
    "neo4j2 = end - mid\n",
    "neo4j3 = end1 - end\n",
    "print(neo4j1)\n",
    "print(neo4j2)\n",
    "print(neo4j3)"
   ]
  },
  {
   "cell_type": "code",
   "execution_count": null,
   "metadata": {},
   "outputs": [],
   "source": []
  }
 ],
 "metadata": {
  "kernelspec": {
   "display_name": "Python 3",
   "language": "python",
   "name": "python3"
  },
  "language_info": {
   "codemirror_mode": {
    "name": "ipython",
    "version": 3
   },
   "file_extension": ".py",
   "mimetype": "text/x-python",
   "name": "python",
   "nbconvert_exporter": "python",
   "pygments_lexer": "ipython3",
   "version": "3.8.5"
  }
 },
 "nbformat": 4,
 "nbformat_minor": 4
}
